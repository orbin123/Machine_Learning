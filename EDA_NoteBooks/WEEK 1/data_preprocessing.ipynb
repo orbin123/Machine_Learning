{
 "cells": [
  {
   "cell_type": "markdown",
   "metadata": {},
   "source": [
    "### Data Preprocessing\n",
    "\n",
    "cleaning and organizing raw data for making it suitable for modelling\n",
    "\n",
    "Why do we need to preprocess data?\n",
    "Data in the real world:\n",
    "* Missing data\n",
    "* Inconsistent\n",
    "* Noisy\n",
    "\n",
    "Quality of the decisions be based on the quality of the data. "
   ]
  },
  {
   "cell_type": "markdown",
   "metadata": {},
   "source": [
    "### Steps in Data Preprocessing\n",
    "\n",
    "* **Data Cleaning**\n",
    "* **Data Integration**\n",
    "* **Data Transformation**\n",
    "* **Dimensionality Reduction**\n",
    "\n"
   ]
  },
  {
   "cell_type": "markdown",
   "metadata": {},
   "source": [
    "### 1. Data Cleaning\n",
    "\n",
    "- process of identifying and correcting missing or inconsistent data to ensure accuracy and completeness.\n",
    "\n"
   ]
  },
  {
   "cell_type": "code",
   "execution_count": 5,
   "metadata": {},
   "outputs": [
    {
     "name": "stdout",
     "output_type": "stream",
     "text": [
      "   name   age  purchase_amount date_of_purchase\n",
      "0  John  28.0          100.500              NaT\n",
      "1  Jane  34.0           84.075       2023-12-02\n",
      "2  John  28.0           85.300       2023-12-01\n",
      "3  None  28.0          100.500       2023-12-01\n",
      "4  Mike  22.0           50.000       2023-12-03\n"
     ]
    },
    {
     "name": "stderr",
     "output_type": "stream",
     "text": [
      "/var/folders/m9/j9s4np6n4093jb6mgddz4btw0000gn/T/ipykernel_50759/233523492.py:18: UserWarning: Could not infer format, so each element will be parsed individually, falling back to `dateutil`. To ensure parsing is consistent and as-expected, please specify a format.\n",
      "  data['date_of_purchase'] = pd.to_datetime(data['date_of_purchase'],errors = 'coerce')\n"
     ]
    }
   ],
   "source": [
    "import pandas as pd\n",
    "import numpy as np\n",
    "from sklearn.impute import SimpleImputer\n",
    "\n",
    "data = pd.DataFrame({\n",
    "    \"name\": ['John', 'Jane', 'John', None, 'Mike'],\n",
    "    \"age\": [28, 34, None, 28, 22],\n",
    "    'purchase_amount': [100.5, None, 85.3, 100.5, 50.0],\n",
    "    'date_of_purchase': ['2023/23/01', '2023/12/02', '2023/12/01', '2023/12/01', '2023/12/03'],\n",
    "})\n",
    "\n",
    "\n",
    "imputer = SimpleImputer(strategy='mean')\n",
    "data[['age', 'purchase_amount']] = imputer.fit_transform(data[['age', 'purchase_amount']])\n",
    "\n",
    "data = data.drop_duplicates()\n",
    "\n",
    "data['date_of_purchase'] = pd.to_datetime(data['date_of_purchase'],errors = 'coerce')\n",
    "\n",
    "print(data)"
   ]
  },
  {
   "cell_type": "markdown",
   "metadata": {},
   "source": [
    "### 2. Data Integration"
   ]
  },
  {
   "cell_type": "code",
   "execution_count": 7,
   "metadata": {},
   "outputs": [
    {
     "name": "stdout",
     "output_type": "stream",
     "text": [
      "   customer_id  name  age  purchase_amount purchase_date\n",
      "0            1  John   28            100.5    2023-12-01\n",
      "1            2  Jane   34             85.3    2023-12-02\n"
     ]
    }
   ],
   "source": [
    "#Creating two manual datasets\n",
    "data1 = pd.DataFrame({\n",
    "    'customer_id': [1, 2, 3],\n",
    "    'name': ['John', 'Jane', 'Jack'],\n",
    "    'age': [28, 34, 29]\n",
    "})\n",
    "\n",
    "data2 = pd.DataFrame({\n",
    "    'customer_id': [1, 2, 4],\n",
    "    'purchase_amount': [100.5, 85.3, 45.0],\n",
    "    'purchase_date': ['2023-12-01', '2023-12-02', '2023-12-03']\n",
    "})\n",
    "\n",
    "merged_data = pd.merge(data1, data2, on='customer_id', how='inner')\n",
    "\n",
    "print(merged_data)"
   ]
  },
  {
   "cell_type": "markdown",
   "metadata": {},
   "source": [
    "### 3. Data Tranformation\n",
    "\n",
    "convert data into the required format"
   ]
  },
  {
   "cell_type": "code",
   "execution_count": 8,
   "metadata": {},
   "outputs": [
    {
     "name": "stdout",
     "output_type": "stream",
     "text": [
      "  category  numeric_column  scaled_numeric_column  category_A  category_B  \\\n",
      "0        A              10              -1.069045         1.0         0.0   \n",
      "1        B              15               0.267261         0.0         1.0   \n",
      "2        A              10              -1.069045         1.0         0.0   \n",
      "3        C              20               1.603567         0.0         0.0   \n",
      "4        B              15               0.267261         0.0         1.0   \n",
      "\n",
      "   category_C  \n",
      "0         0.0  \n",
      "1         0.0  \n",
      "2         0.0  \n",
      "3         1.0  \n",
      "4         0.0  \n"
     ]
    }
   ],
   "source": [
    "from sklearn.preprocessing import StandardScaler, OneHotEncoder\n",
    "\n",
    "# Creating a manual dataset\n",
    "data = pd.DataFrame({\n",
    "    'category': ['A', 'B', 'A', 'C', 'B'],\n",
    "    'numeric_column': [10, 15, 10, 20, 15]\n",
    "})\n",
    "\n",
    "# Scaling numeric data\n",
    "scaler = StandardScaler()\n",
    "data['scaled_numeric_column'] = scaler.fit_transform(data[['numeric_column']])\n",
    "\n",
    "# Encoding categorical variables using one-hot encoding\n",
    "encoder = OneHotEncoder(sparse_output=False)\n",
    "encoded_data = pd.DataFrame(encoder.fit_transform(data[['category']]), columns=encoder.get_feature_names_out(['category']))\n",
    "\n",
    "# concatenating the encodeed data with the original dataset\n",
    "data = pd.concat([data, encoded_data], axis=1)\n",
    "\n",
    "print(data)"
   ]
  },
  {
   "cell_type": "markdown",
   "metadata": {},
   "source": [
    "### 4. Data Reduction\n",
    "\n",
    "reducing features or records while preserving the accuracy of the model."
   ]
  },
  {
   "cell_type": "code",
   "execution_count": 9,
   "metadata": {},
   "outputs": [
    {
     "name": "stdout",
     "output_type": "stream",
     "text": [
      "Selected features (SelectKBest):\n",
      "[[  1 100]\n",
      " [  2 200]\n",
      " [  3 300]\n",
      " [  4 400]\n",
      " [  5 500]]\n",
      "PCA reduced data\n",
      "[[-2.01007463e+02 -1.60010976e-15]\n",
      " [-1.00503731e+02  5.33369922e-16]\n",
      " [ 0.00000000e+00  0.00000000e+00]\n",
      " [ 1.00503731e+02 -5.33369922e-16]\n",
      " [ 2.01007463e+02 -1.06673984e-15]]\n"
     ]
    }
   ],
   "source": [
    "from sklearn.decomposition import PCA\n",
    "from sklearn.feature_selection import SelectKBest, chi2\n",
    "\n",
    "data = pd.DataFrame({\n",
    "    'feature1': [10, 20, 30, 40, 50],\n",
    "    'feature2': [1, 2, 3, 4, 5],\n",
    "    'feature3': [100, 200, 300, 400, 500],\n",
    "    'target': [0, 1, 0, 1, 0]\n",
    "})\n",
    "\n",
    "# Feature Selection using SelectKBest\n",
    "selector= SelectKBest(chi2, k=2)\n",
    "selected_features = selector.fit_transform(data[['feature1', 'feature2', 'feature3']], data['target'])\n",
    "\n",
    "# Printing selected features\n",
    "print(\"Selected features (SelectKBest):\")\n",
    "print(selected_features)\n",
    "\n",
    "# Dimensionality reduction using PCA\n",
    "pca = PCA(n_components=2)\n",
    "pca_data = pca.fit_transform(data[['feature1', 'feature2', 'feature3']])\n",
    "\n",
    "# Printing PCA results\n",
    "print(\"PCA reduced data\")\n",
    "print(pca_data)"
   ]
  },
  {
   "cell_type": "code",
   "execution_count": 11,
   "metadata": {},
   "outputs": [
    {
     "name": "stdout",
     "output_type": "stream",
     "text": [
      "range(1, 1)\n"
     ]
    }
   ],
   "source": [
    "res = range(1,1)\n",
    "print(res)"
   ]
  },
  {
   "cell_type": "markdown",
   "metadata": {},
   "source": [
    "## Handling Missing Data\n",
    "\n",
    "### 1. Simple Imputation"
   ]
  },
  {
   "cell_type": "code",
   "execution_count": null,
   "metadata": {},
   "outputs": [
    {
     "name": "stdout",
     "output_type": "stream",
     "text": [
      "[[1.  2.  7.5]\n",
      " [4.  5.  6. ]\n",
      " [7.  8.  9. ]]\n"
     ]
    }
   ],
   "source": [
    "# using mean\n",
    "data = [[1, 2, np.nan], [4, np.nan, 6], [7, 8, 9]]\n",
    "imputer = SimpleImputer(strategy='mean')\n",
    "\n",
    "result = imputer.fit_transform(data)\n",
    "print(result)"
   ]
  },
  {
   "cell_type": "code",
   "execution_count": 16,
   "metadata": {},
   "outputs": [
    {
     "name": "stdout",
     "output_type": "stream",
     "text": [
      "[[1.  2.  7.5]\n",
      " [4.  5.  6. ]\n",
      " [7.  8.  9. ]]\n"
     ]
    }
   ],
   "source": [
    "# using median\n",
    "imputer = SimpleImputer(strategy='median')\n",
    "result = imputer.fit_transform(data)\n",
    "print(result)"
   ]
  },
  {
   "cell_type": "code",
   "execution_count": 15,
   "metadata": {},
   "outputs": [
    {
     "name": "stdout",
     "output_type": "stream",
     "text": [
      "[[1. 2. 6.]\n",
      " [4. 2. 6.]\n",
      " [7. 8. 9.]]\n"
     ]
    }
   ],
   "source": [
    "# using mode\n",
    "imputer = SimpleImputer(strategy='most_frequent')\n",
    "result = imputer.fit_transform(data)\n",
    "print(result)"
   ]
  },
  {
   "cell_type": "markdown",
   "metadata": {},
   "source": [
    "### 2. Advanced Imputation"
   ]
  },
  {
   "cell_type": "code",
   "execution_count": 18,
   "metadata": {},
   "outputs": [
    {
     "name": "stdout",
     "output_type": "stream",
     "text": [
      "[[1.  2.  7.5]\n",
      " [4.  5.  6. ]\n",
      " [7.  8.  9. ]]\n"
     ]
    }
   ],
   "source": [
    "# KNN Imputer\n",
    "from sklearn.impute import KNNImputer\n",
    "\n",
    "data = [[1, 2, np.nan], [4, np.nan, 6], [7, 8, 9]]\n",
    "imputer = KNNImputer(n_neighbors=2)\n",
    "result = imputer.fit_transform(data)\n",
    "print(result)\n",
    "\n",
    "# NOTE: Uses the average of the two nearest neighbors to impute missing values\n"
   ]
  },
  {
   "cell_type": "code",
   "execution_count": null,
   "metadata": {},
   "outputs": [
    {
     "name": "stdout",
     "output_type": "stream",
     "text": [
      "[[1.         2.         3.00000082]\n",
      " [4.         4.99999986 6.        ]\n",
      " [7.         8.         9.        ]\n",
      " [3.99999983 5.         6.        ]]\n"
     ]
    }
   ],
   "source": [
    "# MICE Imputer\n",
    "from sklearn.experimental import enable_iterative_imputer\n",
    "from sklearn.impute import IterativeImputer\n",
    "\n",
    "data = [[1, 2, np.nan], [4, np.nan, 6], [7,8,9], [np.nan, 5, 6]]\n",
    "imputer = IterativeImputer()\n",
    "result = imputer.fit_transform(data)\n",
    "print(result)\n",
    "\n",
    "# NOTE: Uses linear regression or similar models to predict missing values\n",
    "# NOTE: Creates multiples iterations to refine the imputation"
   ]
  },
  {
   "cell_type": "markdown",
   "metadata": {},
   "source": [
    "## Handling Outliers\n",
    "\n",
    "### Z - Score\n"
   ]
  },
  {
   "cell_type": "code",
   "execution_count": null,
   "metadata": {},
   "outputs": [
    {
     "name": "stdout",
     "output_type": "stream",
     "text": [
      "            Value\n",
      "count  103.000000\n",
      "mean    52.195665\n",
      "std     20.834668\n",
      "min     23.802549\n",
      "25%     44.185369\n",
      "50%     49.279899\n",
      "75%     55.279137\n",
      "max    170.000000\n"
     ]
    }
   ],
   "source": [
    "# Create outliers\n",
    "\n",
    "np.random.seed(42)\n",
    "data= np.random.normal(50, 10, 100)\n",
    "\n",
    "data = np.append(data, [150, 160, 170])\n",
    "\n",
    "df = pd.DataFrame(data, columns=['Value'])\n",
    "print(df.describe())"
   ]
  },
  {
   "cell_type": "code",
   "execution_count": null,
   "metadata": {},
   "outputs": [
    {
     "name": "stdout",
     "output_type": "stream",
     "text": [
      "Outliers detected: \n",
      "     Value   Z-Score\n",
      "100  150.0  4.717263\n",
      "101  160.0  5.199579\n",
      "102  170.0  5.681895\n"
     ]
    }
   ],
   "source": [
    "# Identifying outliers\n",
    "from scipy.stats import zscore\n",
    "\n",
    "# Calculating Z-Scores\n",
    "df['Z-Score'] = zscore(df['Value'])\n",
    "\n",
    "outliers = df[np.abs(df['Z-Score']) > 3]\n",
    "print(\"Outliers detected: \")\n",
    "print(outliers)"
   ]
  },
  {
   "cell_type": "code",
   "execution_count": 26,
   "metadata": {},
   "outputs": [
    {
     "name": "stdout",
     "output_type": "stream",
     "text": [
      "\n",
      " Data after removing outliers: \n",
      "            Value     Z-Score\n",
      "count  100.000000  100.000000\n",
      "mean    48.961535   -0.155987\n",
      "std      9.081684    0.438024\n",
      "min     23.802549   -1.369446\n",
      "25%     43.990943   -0.395727\n",
      "50%     48.730437   -0.167134\n",
      "75%     54.059521    0.089897\n",
      "max     68.522782    0.787483\n"
     ]
    }
   ],
   "source": [
    "# Removing outliers\n",
    "cleaned_df = df[np.abs(df['Z-Score']) <= 3]\n",
    "print('\\n Data after removing outliers: ')\n",
    "print(cleaned_df.describe())"
   ]
  },
  {
   "cell_type": "markdown",
   "metadata": {},
   "source": [
    "### Iterquartile Range"
   ]
  },
  {
   "cell_type": "code",
   "execution_count": 31,
   "metadata": {},
   "outputs": [
    {
     "name": "stdout",
     "output_type": "stream",
     "text": [
      "Q1: 44.19, Q3: 55.28, IQR: 11.09\n"
     ]
    }
   ],
   "source": [
    "# Calculate IQR\n",
    "Q1 = df['Value'].quantile(0.25)\n",
    "Q3 = df['Value'].quantile(0.75)\n",
    "IQR = Q3 - Q1\n",
    "\n",
    "print(f'Q1: {Q1:.2f}, Q3: {Q3:.2f}, IQR: {IQR:.2f}')"
   ]
  },
  {
   "cell_type": "code",
   "execution_count": 32,
   "metadata": {},
   "outputs": [
    {
     "name": "stdout",
     "output_type": "stream",
     "text": [
      "Lower Bound: 27.544716185257876, Upper Bound: 38.63848466455337\n",
      "\n",
      "Outliers Detected (IQR Method):\n",
      "          Value   Z-Score\n",
      "0     54.967142  0.133673\n",
      "1     48.617357 -0.172588\n",
      "2     56.476885  0.206490\n",
      "3     65.230299  0.628682\n",
      "4     47.658466 -0.218836\n",
      "..          ...       ...\n",
      "98    50.051135 -0.103434\n",
      "99    47.654129 -0.219046\n",
      "100  150.000000  4.717263\n",
      "101  160.000000  5.199579\n",
      "102  170.000000  5.681895\n",
      "\n",
      "[90 rows x 2 columns]\n"
     ]
    }
   ],
   "source": [
    "lower_bound = Q1 - 1.5 * IQR\n",
    "upper_bound = Q3 - 1.5 * IQR\n",
    "\n",
    "print(f\"Lower Bound: {lower_bound}, Upper Bound: {upper_bound}\")\n",
    "\n",
    "# Identifying Outliers\n",
    "outliers_iqr = df[(df['Value'] < lower_bound) | (df['Value'] > upper_bound)]\n",
    "print(\"\\nOutliers Detected (IQR Method):\")\n",
    "print(outliers_iqr)"
   ]
  },
  {
   "cell_type": "code",
   "execution_count": 33,
   "metadata": {},
   "outputs": [
    {
     "name": "stdout",
     "output_type": "stream",
     "text": [
      "\n",
      "Data after removing IQR outliers: \n",
      "           Value    Z-Score\n",
      "count  13.000000  13.000000\n",
      "mean   34.597080  -0.848808\n",
      "std     2.965333   0.143023\n",
      "min    30.124311  -1.064537\n",
      "25%    32.369598  -0.956244\n",
      "50%    35.364851  -0.811778\n",
      "75%    36.718140  -0.746506\n",
      "max    38.490064  -0.661043\n"
     ]
    }
   ],
   "source": [
    "cleaned_df_iqr = df[(df['Value']>= lower_bound) & (df['Value'] <= upper_bound)]\n",
    "print(\"\\nData after removing IQR outliers: \")\n",
    "print(cleaned_df_iqr.describe())"
   ]
  },
  {
   "cell_type": "markdown",
   "metadata": {},
   "source": [
    "## Handling Outliers\n",
    "\n",
    "### 1. Removal"
   ]
  },
  {
   "cell_type": "code",
   "execution_count": 37,
   "metadata": {},
   "outputs": [
    {
     "name": "stdout",
     "output_type": "stream",
     "text": [
      "Original data: [  1   2   2   3   3   4   5   6 100]\n",
      "After Z-score filtering: [  1   2   2   3   3   4   5   6 100]\n",
      "After IQR filtering: [1 2 2 3 3 4 5 6]\n"
     ]
    }
   ],
   "source": [
    "\n",
    "# Example dataset\n",
    "data = pd.Series([1, 2, 2, 3, 3, 4, 5, 6, 100])\n",
    "\n",
    "# Method 1: Z-score\n",
    "z_scores = zscore(data)\n",
    "filtered_data = data[np.abs(z_scores) < 3]  # Keep only data within 3 standard deviations\n",
    "\n",
    "# Method 2: IQR (Interquartile Range)\n",
    "Q1 = data.quantile(0.25)\n",
    "Q3 = data.quantile(0.75)\n",
    "IQR = Q3 - Q1\n",
    "filtered_data_iqr = data[(data >= Q1 - 1.5*IQR) & (data <= Q3 + 1.5*IQR)]\n",
    "\n",
    "print(\"Original data:\", data.values)\n",
    "print(\"After Z-score filtering:\", filtered_data.values)\n",
    "print(\"After IQR filtering:\", filtered_data_iqr.values)"
   ]
  },
  {
   "cell_type": "markdown",
   "metadata": {},
   "source": [
    "### 2. Transformation\n",
    "\n",
    "* Log Transformation"
   ]
  },
  {
   "cell_type": "code",
   "execution_count": 38,
   "metadata": {},
   "outputs": [
    {
     "data": {
      "image/png": "[encoded data removed]",
      "text/plain": [
       "<Figure size 1200x400 with 3 Axes>"
      ]
     },
     "metadata": {},
     "output_type": "display_data"
    },
    {
     "name": "stdout",
     "output_type": "stream",
     "text": [
      "Original values:  [  1   2   3   4   5   6   7   8 100 120]\n",
      "Log transformed values:  [0.         0.69314718 1.09861229 1.38629436 1.60943791 1.79175947\n",
      " 1.94591015 2.07944154 4.60517019 4.78749174]\n",
      "Log 10 transformed values:  [0.         0.30103    0.47712125 0.60205999 0.69897    0.77815125\n",
      " 0.84509804 0.90308999 2.         2.07918125]\n"
     ]
    }
   ],
   "source": [
    "import matplotlib.pyplot as plt\n",
    "\n",
    "data = np.array([1,2,3,4,5,6,7,8, 100, 120])\n",
    "\n",
    "log_data = np.log(data)\n",
    "log10_data = np.log10(data)\n",
    "\n",
    "plt.figure(figsize = (12, 4))\n",
    "\n",
    "plt.subplot(131)\n",
    "plt.hist(data)\n",
    "plt.title(\"Original Data\")\n",
    "\n",
    "plt.subplot(132)\n",
    "plt.hist(log_data)\n",
    "plt.title(\"Natural log Transformation\")\n",
    "\n",
    "plt.subplot(133)\n",
    "plt.hist(data)\n",
    "plt.title(\"Log10 log Transformation\")\n",
    "\n",
    "plt.tight_layout()\n",
    "plt.show()\n",
    "\n",
    "print(\"Original values: \", data)\n",
    "print(\"Log transformed values: \", log_data)\n",
    "print(\"Log 10 transformed values: \", log10_data)\n",
    "\n"
   ]
  },
  {
   "cell_type": "markdown",
   "metadata": {},
   "source": [
    "* Square Root Transformation"
   ]
  },
  {
   "cell_type": "code",
   "execution_count": 39,
   "metadata": {},
   "outputs": [
    {
     "name": "stdout",
     "output_type": "stream",
     "text": [
      "[ 1.          1.41421356  1.73205081  2.          2.23606798  2.44948974\n",
      "  2.64575131  2.82842712 10.         10.95445115]\n"
     ]
    },
    {
     "data": {
      "image/png": "[encoded data removed]",
      "text/plain": [
       "<Figure size 640x480 with 1 Axes>"
      ]
     },
     "metadata": {},
     "output_type": "display_data"
    }
   ],
   "source": [
    "sqrt_data = np.sqrt(data)\n",
    "\n",
    "plt.hist(sqrt_data)\n",
    "plt.title(\"Square Root Transformation\")\n",
    "\n",
    "print(sqrt_data)"
   ]
  },
  {
   "cell_type": "markdown",
   "metadata": {},
   "source": [
    "## Capping and Flooring\n",
    "\n",
    "This technique reduces the outliers by limiting the range of data to a upper bound(cap) and a lower bound(floor)."
   ]
  },
  {
   "cell_type": "code",
   "execution_count": 40,
   "metadata": {},
   "outputs": [
    {
     "name": "stdout",
     "output_type": "stream",
     "text": [
      "Lower bound: 27.544716185257876, Upper Bound: 71.91979010243983\n"
     ]
    }
   ],
   "source": [
    "# Step 1: Calculate IQR\n",
    "\n",
    "Q1 = df['Value'].quantile(0.25)\n",
    "Q3 = df['Value'].quantile(0.75)\n",
    "IQR = Q3 - Q1\n",
    "\n",
    "lower_bound = Q1 - 1.5 * IQR\n",
    "upper_bound = Q3 + 1.5 * IQR\n",
    "\n",
    "print(f\"Lower bound: {lower_bound}, Upper Bound: {upper_bound}\")\n"
   ]
  },
  {
   "cell_type": "code",
   "execution_count": 45,
   "metadata": {},
   "outputs": [
    {
     "name": "stdout",
     "output_type": "stream",
     "text": [
      "          Value  Capped_Value\n",
      "93    46.723379     46.723379\n",
      "94    46.078918     46.078918\n",
      "95    35.364851     35.364851\n",
      "96    52.961203     52.961203\n",
      "97    52.610553     52.610553\n",
      "98    50.051135     50.051135\n",
      "99    47.654129     47.654129\n",
      "100  150.000000     71.919790\n",
      "101  160.000000     71.919790\n",
      "102  170.000000     71.919790\n"
     ]
    }
   ],
   "source": [
    "df['Capped_Value'] = np.where(df[\"Value\"] > upper_bound, upper_bound,\n",
    "                              np.where(df[\"Value\"] < lower_bound, lower_bound, df[\"Value\"]))\n",
    "\n",
    "print(df[[\"Value\", \"Capped_Value\"]].tail(10))"
   ]
  },
  {
   "cell_type": "markdown",
   "metadata": {},
   "source": [
    "## Feature Scaling\n",
    "\n",
    "### 1. Noramalization"
   ]
  },
  {
   "cell_type": "code",
   "execution_count": null,
   "metadata": {},
   "outputs": [
    {
     "name": "stdout",
     "output_type": "stream",
     "text": [
      "[[0.53846154]\n",
      " [0.07692308]\n",
      " [0.        ]\n",
      " [0.38461538]\n",
      " [1.        ]]\n"
     ]
    }
   ],
   "source": [
    "from sklearn.preprocessing import MinMaxScaler\n",
    "\n",
    "data = np.array([[50], [20], [15], [40], [80]])\n",
    "\n",
    "scaler = MinMaxScaler(feature_range=(0,1))\n",
    "normalized_data = scaler.fit_transform(data)\n",
    "\n",
    "print(normalized_data)"
   ]
  },
  {
   "cell_type": "markdown",
   "metadata": {},
   "source": [
    "### 2. Standardization"
   ]
  },
  {
   "cell_type": "code",
   "execution_count": 47,
   "metadata": {},
   "outputs": [
    {
     "name": "stdout",
     "output_type": "stream",
     "text": [
      "[[ 0.38587182]\n",
      " [-0.04287465]\n",
      " [-1.1147408 ]\n",
      " [-0.90036757]\n",
      " [ 1.67211121]]\n"
     ]
    }
   ],
   "source": [
    "data = np.array([[50], [40], [15], [20], [80]])\n",
    "\n",
    "scaler = StandardScaler()\n",
    "SS_data = scaler.fit_transform(data)\n",
    "\n",
    "print(SS_data)"
   ]
  },
  {
   "cell_type": "markdown",
   "metadata": {},
   "source": [
    "### 3. Robust Scaling (Interquartile Range Scaling)\n",
    "\n"
   ]
  },
  {
   "cell_type": "code",
   "execution_count": 48,
   "metadata": {},
   "outputs": [
    {
     "name": "stdout",
     "output_type": "stream",
     "text": [
      "[[ 0.33333333]\n",
      " [-0.66666667]\n",
      " [-0.83333333]\n",
      " [ 0.        ]\n",
      " [ 1.33333333]]\n"
     ]
    }
   ],
   "source": [
    "from sklearn.preprocessing import RobustScaler\n",
    "\n",
    "data = np.array([[50], [20], [15], [40], [80]])\n",
    "\n",
    "scaler = RobustScaler()\n",
    "robust_scaled_data = scaler.fit_transform(data)\n",
    "\n",
    "print(robust_scaled_data)"
   ]
  },
  {
   "cell_type": "markdown",
   "metadata": {},
   "source": [
    "## Feature Engineering"
   ]
  },
  {
   "cell_type": "code",
   "execution_count": 50,
   "metadata": {},
   "outputs": [
    {
     "name": "stdout",
     "output_type": "stream",
     "text": [
      "   age  salary  experience  Salary_per_year  salary_per_year\n",
      "0   25   40000           3     13333.333333      1600.000000\n",
      "1   32   50000           8      6250.000000      1562.500000\n",
      "2   40   60000          10      6000.000000      1500.000000\n",
      "3   22   32000           1     32000.000000      1454.545455\n",
      "4   35   55000           7      7857.142857      1571.428571\n"
     ]
    }
   ],
   "source": [
    "data = {\n",
    "    'age': [25, 32, 40, 22, 35],\n",
    "    'salary': [40000, 50000, 60000, 32000, 55000],\n",
    "    'experience': [3, 8, 10, 1, 7]\n",
    "}\n",
    "\n",
    "df = pd.DataFrame(data)\n",
    "\n",
    "df['Salary_per_year'] = df['salary'] / df['experience']\n",
    "df['salary_per_year'] = df['salary'] / df['age']\n",
    "\n",
    "print(df)"
   ]
  },
  {
   "cell_type": "markdown",
   "metadata": {},
   "source": [
    "## Transformations\n",
    "\n",
    "### 1. Log Transformations"
   ]
  },
  {
   "cell_type": "code",
   "execution_count": 51,
   "metadata": {},
   "outputs": [
    {
     "name": "stdout",
     "output_type": "stream",
     "text": [
      "   age  salary  experience  Salary_per_year  salary_per_year  log_salary\n",
      "0   25   40000           3     13333.333333      1600.000000   10.596635\n",
      "1   32   50000           8      6250.000000      1562.500000   10.819778\n",
      "2   40   60000          10      6000.000000      1500.000000   11.002100\n",
      "3   22   32000           1     32000.000000      1454.545455   10.373491\n",
      "4   35   55000           7      7857.142857      1571.428571   10.915088\n"
     ]
    }
   ],
   "source": [
    "df['log_salary'] = np.log(df['salary'])\n",
    "print(df)"
   ]
  },
  {
   "cell_type": "markdown",
   "metadata": {},
   "source": [
    "### 2. Polynomial Transformation"
   ]
  },
  {
   "cell_type": "code",
   "execution_count": 52,
   "metadata": {},
   "outputs": [
    {
     "name": "stdout",
     "output_type": "stream",
     "text": [
      "[[1.000e+00 3.000e+00 2.500e+01 9.000e+00 7.500e+01 6.250e+02]\n",
      " [1.000e+00 8.000e+00 3.200e+01 6.400e+01 2.560e+02 1.024e+03]\n",
      " [1.000e+00 1.000e+01 4.000e+01 1.000e+02 4.000e+02 1.600e+03]\n",
      " [1.000e+00 1.000e+00 2.200e+01 1.000e+00 2.200e+01 4.840e+02]\n",
      " [1.000e+00 7.000e+00 3.500e+01 4.900e+01 2.450e+02 1.225e+03]]\n"
     ]
    }
   ],
   "source": [
    "from sklearn.preprocessing import PolynomialFeatures\n",
    "\n",
    "poly = PolynomialFeatures(degree=2)\n",
    "poly_features = poly.fit_transform(df[['experience', 'age']])\n",
    "print(poly_features)"
   ]
  },
  {
   "cell_type": "markdown",
   "metadata": {},
   "source": [
    "### 3. Encoding Categorical Variables\n",
    "\n",
    "#### One Hot Encoding"
   ]
  },
  {
   "cell_type": "code",
   "execution_count": null,
   "metadata": {},
   "outputs": [],
   "source": [
    "from sklearn.preprocessing import OneHotEncoder\n",
    "\n",
    "data =  {\n",
    "    'Employee id': [10, 20, 15, 25, 30],\n",
    "    'Gender': ['M', 'F', 'F', 'M', 'F'],\n",
    "    'Remarks': ['Good', 'Nice', 'Good', 'Great', 'Nice']\n",
    "}\n",
    "\n",
    "df = pd.DataFrame(data)\n",
    "print(f'Original Employee Data: \\n{df}\\n')\n",
    "\n",
    "# Use pd.get_dummies() to one hot encode categorical columns\n",
    "df_pandas_encoded = pd.get_dummies(df, columns=['Gender', 'Remarks'], drop_first=True)\n",
    "\n",
    "print(f'One-Hot Encoded Data using Pandas:\\n{df_pandas_encoded}\\n')\n",
    "\n",
    "encoder = OneHotEncoder(sparse_output= False)\n",
    "\n",
    "one_hot_encoded = encoder.fit_transform(df[categorical_columns])"
   ]
  },
  {
   "cell_type": "code",
   "execution_count": 56,
   "metadata": {},
   "outputs": [
    {
     "name": "stdout",
     "output_type": "stream",
     "text": [
      "   Color   Blue  Green    Red\n",
      "0    Red  False  False   True\n",
      "1  Green  False   True  False\n",
      "2   Blue   True  False  False\n",
      "3  Green  False   True  False\n",
      "4    Red  False  False   True\n"
     ]
    }
   ],
   "source": [
    "import pandas as pd\n",
    "\n",
    "data = {\n",
    "    'Color': ['Red', 'Green', 'Blue', 'Green', 'Red']\n",
    "}\n",
    "df = pd.DataFrame(data)\n",
    "\n",
    "one_hot = pd.get_dummies(df['Color'])\n",
    "df = pd.concat([df, one_hot], axis=1)\n",
    "print(df)"
   ]
  },
  {
   "cell_type": "code",
   "execution_count": 57,
   "metadata": {},
   "outputs": [
    {
     "name": "stdout",
     "output_type": "stream",
     "text": [
      "   Color   Blue  Green    Red  Color_Label\n",
      "0    Red  False  False   True            2\n",
      "1  Green  False   True  False            1\n",
      "2   Blue   True  False  False            0\n",
      "3  Green  False   True  False            1\n",
      "4    Red  False  False   True            2\n"
     ]
    }
   ],
   "source": [
    "from sklearn.preprocessing import LabelEncoder\n",
    "\n",
    "encoder = LabelEncoder()\n",
    "df['Color_Label'] = encoder.fit_transform(df['Color'])\n",
    "print(df)"
   ]
  },
  {
   "cell_type": "markdown",
   "metadata": {},
   "source": [
    "## Feature Selection\n",
    "\n",
    "### Filter Methods"
   ]
  },
  {
   "cell_type": "markdown",
   "metadata": {},
   "source": [
    "#### 1. Pearson Correlation"
   ]
  },
  {
   "cell_type": "code",
   "execution_count": 58,
   "metadata": {},
   "outputs": [
    {
     "name": "stdout",
     "output_type": "stream",
     "text": [
      "    edu_goal  hours_study  hours_TV  hours_sleep  height_cm  grade_level  \\\n",
      "0  bachelors            1         4           10        155            8   \n",
      "1  bachelors            2         3           10        151            8   \n",
      "2  bachelors            3         4            8        160            8   \n",
      "3    masters            3         3            8        160            8   \n",
      "4    masters            3         2            6        156            8   \n",
      "5    masters            4         3            6        150            8   \n",
      "6    masters            3         2            8        164            8   \n",
      "7        phd            4         2            8        151            8   \n",
      "8        phd            5         1           10        158            8   \n",
      "9        phd            5         1           10        152            8   \n",
      "\n",
      "   exam_score  \n",
      "0          71  \n",
      "1          72  \n",
      "2          78  \n",
      "3          79  \n",
      "4          85  \n",
      "5          86  \n",
      "6          92  \n",
      "7          93  \n",
      "8          99  \n",
      "9         100  \n"
     ]
    }
   ],
   "source": [
    "df = pd.DataFrame(data={\n",
    "    'edu_goal': ['bachelors', 'bachelors', 'bachelors', 'masters', 'masters', 'masters', 'masters', 'phd', 'phd', 'phd'],\n",
    "    'hours_study': [1, 2, 3, 3, 3, 4, 3, 4, 5, 5],\n",
    "    'hours_TV': [4, 3, 4, 3, 2, 3, 2, 2, 1, 1],\n",
    "    'hours_sleep': [10, 10, 8, 8, 6, 6, 8, 8, 10, 10],\n",
    "    'height_cm': [155, 151, 160, 160, 156, 150, 164, 151, 158, 152],\n",
    "    'grade_level': [8, 8, 8, 8, 8, 8, 8, 8, 8, 8],\n",
    "    'exam_score': [71, 72, 78, 79, 85, 86, 92, 93, 99, 100]\n",
    "})\n",
    "\n",
    "print(df)"
   ]
  },
  {
   "cell_type": "code",
   "execution_count": 60,
   "metadata": {},
   "outputs": [
    {
     "name": "stdout",
     "output_type": "stream",
     "text": [
      "    edu_goal  hours_study  hours_TV  hours_sleep  height_cm  grade_level\n",
      "0  bachelors            1         4           10        155            8\n",
      "1  bachelors            2         3           10        151            8\n",
      "2  bachelors            3         4            8        160            8\n",
      "3    masters            3         3            8        160            8\n",
      "4    masters            3         2            6        156            8\n",
      "5    masters            4         3            6        150            8\n",
      "6    masters            3         2            8        164            8\n",
      "7        phd            4         2            8        151            8\n",
      "8        phd            5         1           10        158            8\n",
      "9        phd            5         1           10        152            8\n"
     ]
    }
   ],
   "source": [
    "X = df.drop(columns=['exam_score'])\n",
    "print(X)\n"
   ]
  },
  {
   "cell_type": "code",
   "execution_count": 62,
   "metadata": {},
   "outputs": [
    {
     "name": "stdout",
     "output_type": "stream",
     "text": [
      "0     71\n",
      "1     72\n",
      "2     78\n",
      "3     79\n",
      "4     85\n",
      "5     86\n",
      "6     92\n",
      "7     93\n",
      "8     99\n",
      "9    100\n",
      "Name: exam_score, dtype: int64\n"
     ]
    }
   ],
   "source": [
    "Y = df['exam_score']\n",
    "print(Y)"
   ]
  },
  {
   "cell_type": "code",
   "execution_count": null,
   "metadata": {},
   "outputs": [],
   "source": [
    "import seaborn as sns\n",
    "\n",
    "X_num = df.drop(columns=['edu_goal'])\n",
    "corr_matrix = X_num.corr(method=\"pearson\")"
   ]
  },
  {
   "cell_type": "code",
   "execution_count": 68,
   "metadata": {},
   "outputs": [
    {
     "data": {
      "text/plain": [
       "<Axes: >"
      ]
     },
     "execution_count": 68,
     "metadata": {},
     "output_type": "execute_result"
    },
    {
     "data": {
      "image/png": "[encoded data removed]",
      "text/plain": [
       "<Figure size 640x480 with 2 Axes>"
      ]
     },
     "metadata": {},
     "output_type": "display_data"
    }
   ],
   "source": [
    "sns.heatmap(corr_matrix, annot=True, cmap='RdBu_r')"
   ]
  },
  {
   "cell_type": "markdown",
   "metadata": {},
   "source": [
    "#### 2. Variance Threshold"
   ]
  },
  {
   "cell_type": "code",
   "execution_count": 77,
   "metadata": {},
   "outputs": [
    {
     "name": "stdout",
     "output_type": "stream",
     "text": [
      "[[  1   4  10 155]\n",
      " [  2   3  10 151]\n",
      " [  3   4   8 160]\n",
      " [  3   3   8 160]\n",
      " [  3   2   6 156]\n",
      " [  4   3   6 150]\n",
      " [  3   2   8 164]\n",
      " [  4   2   8 151]\n",
      " [  5   1  10 158]\n",
      " [  5   1  10 152]]\n"
     ]
    }
   ],
   "source": [
    "from sklearn.feature_selection import VarianceThreshold\n",
    "\n",
    "X_num = X.drop(columns=['edu_goal'])\n",
    "\n",
    "selector = VarianceThreshold(threshold=1)\n",
    "\n",
    "print(selector.fit_transform(X_num))\n"
   ]
  },
  {
   "cell_type": "markdown",
   "metadata": {},
   "source": [
    "## Wrapper Methods\n",
    "\n",
    "### RFE (Recursive Feature Elimination)\n"
   ]
  },
  {
   "cell_type": "code",
   "execution_count": 80,
   "metadata": {},
   "outputs": [
    {
     "data": {
      "text/plain": [
       "{'data': array([[5.1, 3.5, 1.4, 0.2],\n",
       "        [4.9, 3. , 1.4, 0.2],\n",
       "        [4.7, 3.2, 1.3, 0.2],\n",
       "        [4.6, 3.1, 1.5, 0.2],\n",
       "        [5. , 3.6, 1.4, 0.2],\n",
       "        [5.4, 3.9, 1.7, 0.4],\n",
       "        [4.6, 3.4, 1.4, 0.3],\n",
       "        [5. , 3.4, 1.5, 0.2],\n",
       "        [4.4, 2.9, 1.4, 0.2],\n",
       "        [4.9, 3.1, 1.5, 0.1],\n",
       "        [5.4, 3.7, 1.5, 0.2],\n",
       "        [4.8, 3.4, 1.6, 0.2],\n",
       "        [4.8, 3. , 1.4, 0.1],\n",
       "        [4.3, 3. , 1.1, 0.1],\n",
       "        [5.8, 4. , 1.2, 0.2],\n",
       "        [5.7, 4.4, 1.5, 0.4],\n",
       "        [5.4, 3.9, 1.3, 0.4],\n",
       "        [5.1, 3.5, 1.4, 0.3],\n",
       "        [5.7, 3.8, 1.7, 0.3],\n",
       "        [5.1, 3.8, 1.5, 0.3],\n",
       "        [5.4, 3.4, 1.7, 0.2],\n",
       "        [5.1, 3.7, 1.5, 0.4],\n",
       "        [4.6, 3.6, 1. , 0.2],\n",
       "        [5.1, 3.3, 1.7, 0.5],\n",
       "        [4.8, 3.4, 1.9, 0.2],\n",
       "        [5. , 3. , 1.6, 0.2],\n",
       "        [5. , 3.4, 1.6, 0.4],\n",
       "        [5.2, 3.5, 1.5, 0.2],\n",
       "        [5.2, 3.4, 1.4, 0.2],\n",
       "        [4.7, 3.2, 1.6, 0.2],\n",
       "        [4.8, 3.1, 1.6, 0.2],\n",
       "        [5.4, 3.4, 1.5, 0.4],\n",
       "        [5.2, 4.1, 1.5, 0.1],\n",
       "        [5.5, 4.2, 1.4, 0.2],\n",
       "        [4.9, 3.1, 1.5, 0.2],\n",
       "        [5. , 3.2, 1.2, 0.2],\n",
       "        [5.5, 3.5, 1.3, 0.2],\n",
       "        [4.9, 3.6, 1.4, 0.1],\n",
       "        [4.4, 3. , 1.3, 0.2],\n",
       "        [5.1, 3.4, 1.5, 0.2],\n",
       "        [5. , 3.5, 1.3, 0.3],\n",
       "        [4.5, 2.3, 1.3, 0.3],\n",
       "        [4.4, 3.2, 1.3, 0.2],\n",
       "        [5. , 3.5, 1.6, 0.6],\n",
       "        [5.1, 3.8, 1.9, 0.4],\n",
       "        [4.8, 3. , 1.4, 0.3],\n",
       "        [5.1, 3.8, 1.6, 0.2],\n",
       "        [4.6, 3.2, 1.4, 0.2],\n",
       "        [5.3, 3.7, 1.5, 0.2],\n",
       "        [5. , 3.3, 1.4, 0.2],\n",
       "        [7. , 3.2, 4.7, 1.4],\n",
       "        [6.4, 3.2, 4.5, 1.5],\n",
       "        [6.9, 3.1, 4.9, 1.5],\n",
       "        [5.5, 2.3, 4. , 1.3],\n",
       "        [6.5, 2.8, 4.6, 1.5],\n",
       "        [5.7, 2.8, 4.5, 1.3],\n",
       "        [6.3, 3.3, 4.7, 1.6],\n",
       "        [4.9, 2.4, 3.3, 1. ],\n",
       "        [6.6, 2.9, 4.6, 1.3],\n",
       "        [5.2, 2.7, 3.9, 1.4],\n",
       "        [5. , 2. , 3.5, 1. ],\n",
       "        [5.9, 3. , 4.2, 1.5],\n",
       "        [6. , 2.2, 4. , 1. ],\n",
       "        [6.1, 2.9, 4.7, 1.4],\n",
       "        [5.6, 2.9, 3.6, 1.3],\n",
       "        [6.7, 3.1, 4.4, 1.4],\n",
       "        [5.6, 3. , 4.5, 1.5],\n",
       "        [5.8, 2.7, 4.1, 1. ],\n",
       "        [6.2, 2.2, 4.5, 1.5],\n",
       "        [5.6, 2.5, 3.9, 1.1],\n",
       "        [5.9, 3.2, 4.8, 1.8],\n",
       "        [6.1, 2.8, 4. , 1.3],\n",
       "        [6.3, 2.5, 4.9, 1.5],\n",
       "        [6.1, 2.8, 4.7, 1.2],\n",
       "        [6.4, 2.9, 4.3, 1.3],\n",
       "        [6.6, 3. , 4.4, 1.4],\n",
       "        [6.8, 2.8, 4.8, 1.4],\n",
       "        [6.7, 3. , 5. , 1.7],\n",
       "        [6. , 2.9, 4.5, 1.5],\n",
       "        [5.7, 2.6, 3.5, 1. ],\n",
       "        [5.5, 2.4, 3.8, 1.1],\n",
       "        [5.5, 2.4, 3.7, 1. ],\n",
       "        [5.8, 2.7, 3.9, 1.2],\n",
       "        [6. , 2.7, 5.1, 1.6],\n",
       "        [5.4, 3. , 4.5, 1.5],\n",
       "        [6. , 3.4, 4.5, 1.6],\n",
       "        [6.7, 3.1, 4.7, 1.5],\n",
       "        [6.3, 2.3, 4.4, 1.3],\n",
       "        [5.6, 3. , 4.1, 1.3],\n",
       "        [5.5, 2.5, 4. , 1.3],\n",
       "        [5.5, 2.6, 4.4, 1.2],\n",
       "        [6.1, 3. , 4.6, 1.4],\n",
       "        [5.8, 2.6, 4. , 1.2],\n",
       "        [5. , 2.3, 3.3, 1. ],\n",
       "        [5.6, 2.7, 4.2, 1.3],\n",
       "        [5.7, 3. , 4.2, 1.2],\n",
       "        [5.7, 2.9, 4.2, 1.3],\n",
       "        [6.2, 2.9, 4.3, 1.3],\n",
       "        [5.1, 2.5, 3. , 1.1],\n",
       "        [5.7, 2.8, 4.1, 1.3],\n",
       "        [6.3, 3.3, 6. , 2.5],\n",
       "        [5.8, 2.7, 5.1, 1.9],\n",
       "        [7.1, 3. , 5.9, 2.1],\n",
       "        [6.3, 2.9, 5.6, 1.8],\n",
       "        [6.5, 3. , 5.8, 2.2],\n",
       "        [7.6, 3. , 6.6, 2.1],\n",
       "        [4.9, 2.5, 4.5, 1.7],\n",
       "        [7.3, 2.9, 6.3, 1.8],\n",
       "        [6.7, 2.5, 5.8, 1.8],\n",
       "        [7.2, 3.6, 6.1, 2.5],\n",
       "        [6.5, 3.2, 5.1, 2. ],\n",
       "        [6.4, 2.7, 5.3, 1.9],\n",
       "        [6.8, 3. , 5.5, 2.1],\n",
       "        [5.7, 2.5, 5. , 2. ],\n",
       "        [5.8, 2.8, 5.1, 2.4],\n",
       "        [6.4, 3.2, 5.3, 2.3],\n",
       "        [6.5, 3. , 5.5, 1.8],\n",
       "        [7.7, 3.8, 6.7, 2.2],\n",
       "        [7.7, 2.6, 6.9, 2.3],\n",
       "        [6. , 2.2, 5. , 1.5],\n",
       "        [6.9, 3.2, 5.7, 2.3],\n",
       "        [5.6, 2.8, 4.9, 2. ],\n",
       "        [7.7, 2.8, 6.7, 2. ],\n",
       "        [6.3, 2.7, 4.9, 1.8],\n",
       "        [6.7, 3.3, 5.7, 2.1],\n",
       "        [7.2, 3.2, 6. , 1.8],\n",
       "        [6.2, 2.8, 4.8, 1.8],\n",
       "        [6.1, 3. , 4.9, 1.8],\n",
       "        [6.4, 2.8, 5.6, 2.1],\n",
       "        [7.2, 3. , 5.8, 1.6],\n",
       "        [7.4, 2.8, 6.1, 1.9],\n",
       "        [7.9, 3.8, 6.4, 2. ],\n",
       "        [6.4, 2.8, 5.6, 2.2],\n",
       "        [6.3, 2.8, 5.1, 1.5],\n",
       "        [6.1, 2.6, 5.6, 1.4],\n",
       "        [7.7, 3. , 6.1, 2.3],\n",
       "        [6.3, 3.4, 5.6, 2.4],\n",
       "        [6.4, 3.1, 5.5, 1.8],\n",
       "        [6. , 3. , 4.8, 1.8],\n",
       "        [6.9, 3.1, 5.4, 2.1],\n",
       "        [6.7, 3.1, 5.6, 2.4],\n",
       "        [6.9, 3.1, 5.1, 2.3],\n",
       "        [5.8, 2.7, 5.1, 1.9],\n",
       "        [6.8, 3.2, 5.9, 2.3],\n",
       "        [6.7, 3.3, 5.7, 2.5],\n",
       "        [6.7, 3. , 5.2, 2.3],\n",
       "        [6.3, 2.5, 5. , 1.9],\n",
       "        [6.5, 3. , 5.2, 2. ],\n",
       "        [6.2, 3.4, 5.4, 2.3],\n",
       "        [5.9, 3. , 5.1, 1.8]]),\n",
       " 'target': array([0, 0, 0, 0, 0, 0, 0, 0, 0, 0, 0, 0, 0, 0, 0, 0, 0, 0, 0, 0, 0, 0,\n",
       "        0, 0, 0, 0, 0, 0, 0, 0, 0, 0, 0, 0, 0, 0, 0, 0, 0, 0, 0, 0, 0, 0,\n",
       "        0, 0, 0, 0, 0, 0, 1, 1, 1, 1, 1, 1, 1, 1, 1, 1, 1, 1, 1, 1, 1, 1,\n",
       "        1, 1, 1, 1, 1, 1, 1, 1, 1, 1, 1, 1, 1, 1, 1, 1, 1, 1, 1, 1, 1, 1,\n",
       "        1, 1, 1, 1, 1, 1, 1, 1, 1, 1, 1, 1, 2, 2, 2, 2, 2, 2, 2, 2, 2, 2,\n",
       "        2, 2, 2, 2, 2, 2, 2, 2, 2, 2, 2, 2, 2, 2, 2, 2, 2, 2, 2, 2, 2, 2,\n",
       "        2, 2, 2, 2, 2, 2, 2, 2, 2, 2, 2, 2, 2, 2, 2, 2, 2, 2]),\n",
       " 'frame': None,\n",
       " 'target_names': array(['setosa', 'versicolor', 'virginica'], dtype='<U10'),\n",
       " 'DESCR': '.. _iris_dataset:\\n\\nIris plants dataset\\n--------------------\\n\\n**Data Set Characteristics:**\\n\\n:Number of Instances: 150 (50 in each of three classes)\\n:Number of Attributes: 4 numeric, predictive attributes and the class\\n:Attribute Information:\\n    - sepal length in cm\\n    - sepal width in cm\\n    - petal length in cm\\n    - petal width in cm\\n    - class:\\n            - Iris-Setosa\\n            - Iris-Versicolour\\n            - Iris-Virginica\\n\\n:Summary Statistics:\\n\\n============== ==== ==== ======= ===== ====================\\n                Min  Max   Mean    SD   Class Correlation\\n============== ==== ==== ======= ===== ====================\\nsepal length:   4.3  7.9   5.84   0.83    0.7826\\nsepal width:    2.0  4.4   3.05   0.43   -0.4194\\npetal length:   1.0  6.9   3.76   1.76    0.9490  (high!)\\npetal width:    0.1  2.5   1.20   0.76    0.9565  (high!)\\n============== ==== ==== ======= ===== ====================\\n\\n:Missing Attribute Values: None\\n:Class Distribution: 33.3% for each of 3 classes.\\n:Creator: R.A. Fisher\\n:Donor: Michael Marshall (MARSHALL%PLU@io.arc.nasa.gov)\\n:Date: July, 1988\\n\\nThe famous Iris database, first used by Sir R.A. Fisher. The dataset is taken\\nfrom Fisher\\'s paper. Note that it\\'s the same as in R, but not as in the UCI\\nMachine Learning Repository, which has two wrong data points.\\n\\nThis is perhaps the best known database to be found in the\\npattern recognition literature.  Fisher\\'s paper is a classic in the field and\\nis referenced frequently to this day.  (See Duda & Hart, for example.)  The\\ndata set contains 3 classes of 50 instances each, where each class refers to a\\ntype of iris plant.  One class is linearly separable from the other 2; the\\nlatter are NOT linearly separable from each other.\\n\\n.. dropdown:: References\\n\\n  - Fisher, R.A. \"The use of multiple measurements in taxonomic problems\"\\n    Annual Eugenics, 7, Part II, 179-188 (1936); also in \"Contributions to\\n    Mathematical Statistics\" (John Wiley, NY, 1950).\\n  - Duda, R.O., & Hart, P.E. (1973) Pattern Classification and Scene Analysis.\\n    (Q327.D83) John Wiley & Sons.  ISBN 0-471-22361-1.  See page 218.\\n  - Dasarathy, B.V. (1980) \"Nosing Around the Neighborhood: A New System\\n    Structure and Classification Rule for Recognition in Partially Exposed\\n    Environments\".  IEEE Transactions on Pattern Analysis and Machine\\n    Intelligence, Vol. PAMI-2, No. 1, 67-71.\\n  - Gates, G.W. (1972) \"The Reduced Nearest Neighbor Rule\".  IEEE Transactions\\n    on Information Theory, May 1972, 431-433.\\n  - See also: 1988 MLC Proceedings, 54-64.  Cheeseman et al\"s AUTOCLASS II\\n    conceptual clustering system finds 3 classes in the data.\\n  - Many, many more ...\\n',\n",
       " 'feature_names': ['sepal length (cm)',\n",
       "  'sepal width (cm)',\n",
       "  'petal length (cm)',\n",
       "  'petal width (cm)'],\n",
       " 'filename': 'iris.csv',\n",
       " 'data_module': 'sklearn.datasets.data'}"
      ]
     },
     "execution_count": 80,
     "metadata": {},
     "output_type": "execute_result"
    }
   ],
   "source": [
    "from sklearn.datasets import load_iris\n",
    "from sklearn.ensemble import RandomForestClassifier\n",
    "from sklearn.feature_selection import RFE\n",
    "\n",
    "data = load_iris()\n",
    "X, y = data.data, data.target\n",
    "\n",
    "data"
   ]
  },
  {
   "cell_type": "code",
   "execution_count": null,
   "metadata": {},
   "outputs": [
    {
     "name": "stdout",
     "output_type": "stream",
     "text": [
      "Selected features:  [False False  True  True]\n",
      "Feature ranking:  [2 3 1 1]\n"
     ]
    }
   ],
   "source": [
    "\n",
    "\n",
    "model = RandomForestClassifier()\n",
    "rfe = RFE(estimator=model, n_features_to_select=2)\n",
    "X_rfe = rfe.fit_transform(X,y)\n",
    "\n",
    "print(\"Selected features: \", rfe.support_)\n",
    "print(\"Feature ranking: \", rfe.ranking_)"
   ]
  },
  {
   "cell_type": "markdown",
   "metadata": {},
   "source": [
    "### 2. Step-wise Selection"
   ]
  },
  {
   "cell_type": "code",
   "execution_count": 83,
   "metadata": {},
   "outputs": [
    {
     "name": "stdout",
     "output_type": "stream",
     "text": [
      "Selected features:  ('0', '2', '3')\n"
     ]
    }
   ],
   "source": [
    "from sklearn.linear_model import LinearRegression\n",
    "from mlxtend.feature_selection import SequentialFeatureSelector as SFS\n",
    "\n",
    "model = LinearRegression()\n",
    "\n",
    "# Using 'r2' (R-squared) as the scoring metric for regression\n",
    "sfs = SFS(model, k_features=3, forward=True, scoring='r2')\n",
    "sfs.fit(X, y)\n",
    "\n",
    "print(\"Selected features: \", sfs.k_feature_names_)"
   ]
  },
  {
   "cell_type": "code",
   "execution_count": 84,
   "metadata": {},
   "outputs": [
    {
     "data": {
      "image/png": "[encoded data removed]",
      "text/plain": [
       "<Figure size 1200x1000 with 1 Axes>"
      ]
     },
     "metadata": {},
     "output_type": "display_data"
    }
   ],
   "source": [
    "#Importing libraries. The same will be used throughout the article.\n",
    "import numpy as np\n",
    "import pandas as pd\n",
    "import random\n",
    "\n",
    "import matplotlib.pyplot as plt\n",
    "from matplotlib.pylab import rcParams\n",
    "rcParams['figure.figsize'] = 12, 10\n",
    "\n",
    "#Define input array with angles from 60deg to 300deg converted to radians\n",
    "x = np.array([i*np.pi/180 for i in range(60,300,4)])\n",
    "np.random.seed(10)  #Setting seed for reproducibility\n",
    "y = np.sin(x) + np.random.normal(0,0.15,len(x))\n",
    "data = pd.DataFrame(np.column_stack([x,y]),columns=['x','y'])\n",
    "plt.plot(data['x'],data['y'],'.')\n",
    "plt.show()"
   ]
  },
  {
   "cell_type": "code",
   "execution_count": 85,
   "metadata": {},
   "outputs": [
    {
     "name": "stdout",
     "output_type": "stream",
     "text": [
      "          x         y       x_2       x_3       x_4       x_5       x_6  \\\n",
      "0  1.047198  1.065763  1.096623  1.148381  1.202581  1.259340  1.318778   \n",
      "1  1.117011  1.006086  1.247713  1.393709  1.556788  1.738948  1.942424   \n",
      "2  1.186824  0.695374  1.408551  1.671702  1.984016  2.354677  2.794587   \n",
      "3  1.256637  0.949799  1.579137  1.984402  2.493673  3.133642  3.937850   \n",
      "4  1.326450  1.063496  1.759470  2.333850  3.095735  4.106339  5.446854   \n",
      "\n",
      "        x_7       x_8        x_9       x_10       x_11       x_12       x_13  \\\n",
      "0  1.381021  1.446202   1.514459   1.585938   1.660790   1.739176   1.821260   \n",
      "1  2.169709  2.423588   2.707173   3.023942   3.377775   3.773011   4.214494   \n",
      "2  3.316683  3.936319   4.671717   5.544505   6.580351   7.809718   9.268760   \n",
      "3  4.948448  6.218404   7.814277   9.819710  12.339811  15.506664  19.486248   \n",
      "4  7.224981  9.583578  12.712139  16.862020  22.366630  29.668222  39.353420   \n",
      "\n",
      "        x_14       x_15  \n",
      "0   1.907219   1.997235  \n",
      "1   4.707635   5.258479  \n",
      "2  11.000386  13.055521  \n",
      "3  24.487142  30.771450  \n",
      "4  52.200353  69.241170  \n"
     ]
    }
   ],
   "source": [
    "for i in range(2,16):  #power of 1 is already there\n",
    "    colname = 'x_%d'%i      #new var will be x_power\n",
    "    data[colname] = data['x']**i\n",
    "print(data.head()) #add a column for each power upto 15 "
   ]
  },
  {
   "cell_type": "code",
   "execution_count": 88,
   "metadata": {},
   "outputs": [],
   "source": [
    "#Import Linear Regression model from scikit-learn.\n",
    "from sklearn.linear_model import LinearRegression\n",
    "def linear_regression(data, power, models_to_plot):\n",
    "    #initialize predictors:\n",
    "    predictors=['x']\n",
    "    if power>=2:\n",
    "        predictors.extend(['x_%d'%i for i in range(2,power+1)])\n",
    "    \n",
    "    #Fit the model\n",
    "    linreg = LinearRegression()\n",
    "    linreg.fit(data[predictors],data['y'])\n",
    "    y_pred = linreg.predict(data[predictors])\n",
    "    \n",
    "    #Check if a plot is to be made for the entered power\n",
    "    if power in models_to_plot:\n",
    "        plt.subplot(models_to_plot[power])\n",
    "        plt.tight_layout()\n",
    "        plt.plot(data['x'],y_pred)\n",
    "        plt.plot(data['x'],data['y'],'.')\n",
    "        plt.title('Plot for power: %d'%power)\n",
    "    \n",
    "    #Return the result in pre-defined format\n",
    "    rss = sum((y_pred-data['y'])**2)\n",
    "    ret = [rss]\n",
    "    ret.extend([linreg.intercept_])\n",
    "    ret.extend(linreg.coef_)\n",
    "    return ret"
   ]
  },
  {
   "cell_type": "code",
   "execution_count": 89,
   "metadata": {},
   "outputs": [
    {
     "data": {
      "image/png": "[encoded data removed]",
      "text/plain": [
       "<Figure size 1200x1000 with 6 Axes>"
      ]
     },
     "metadata": {},
     "output_type": "display_data"
    }
   ],
   "source": [
    "#Initialize a dataframe to store the results:\n",
    "col = ['rss','intercept'] + ['coef_x_%d'%i for i in range(1,16)]\n",
    "ind = ['model_pow_%d'%i for i in range(1,16)]\n",
    "coef_matrix_simple = pd.DataFrame(index=ind, columns=col)\n",
    "\n",
    "#Define the powers for which a plot is required:\n",
    "models_to_plot = {1:231,3:232,6:233,9:234,12:235,15:236}\n",
    "\n",
    "#Iterate through all powers and assimilate results\n",
    "for i in range(1,16):\n",
    "    coef_matrix_simple.iloc[i-1,0:i+2] = linear_regression(data, power=i, models_to_plot=models_to_plot)"
   ]
  },
  {
   "cell_type": "code",
   "execution_count": null,
   "metadata": {},
   "outputs": [
    {
     "ename": "ValueError",
     "evalue": "Found input variables with inconsistent numbers of samples: [150, 60]",
     "output_type": "error",
     "traceback": [
      "\u001b[0;31m---------------------------------------------------------------------------\u001b[0m",
      "\u001b[0;31mValueError\u001b[0m                                Traceback (most recent call last)",
      "Cell \u001b[0;32mIn[90], line 4\u001b[0m\n\u001b[1;32m      1\u001b[0m \u001b[38;5;28;01mfrom\u001b[39;00m \u001b[38;5;21;01msklearn\u001b[39;00m\u001b[38;5;21;01m.\u001b[39;00m\u001b[38;5;21;01mlinear_model\u001b[39;00m \u001b[38;5;28;01mimport\u001b[39;00m Lasso\n\u001b[1;32m      3\u001b[0m model \u001b[38;5;241m=\u001b[39m Lasso(alpha\u001b[38;5;241m=\u001b[39m\u001b[38;5;241m0.1\u001b[39m)\n\u001b[0;32m----> 4\u001b[0m model\u001b[38;5;241m.\u001b[39mfit(X, y)\n",
      "File \u001b[0;32m/opt/anaconda3/lib/python3.12/site-packages/sklearn/base.py:1473\u001b[0m, in \u001b[0;36m_fit_context.<locals>.decorator.<locals>.wrapper\u001b[0;34m(estimator, *args, **kwargs)\u001b[0m\n\u001b[1;32m   1466\u001b[0m     estimator\u001b[38;5;241m.\u001b[39m_validate_params()\n\u001b[1;32m   1468\u001b[0m \u001b[38;5;28;01mwith\u001b[39;00m config_context(\n\u001b[1;32m   1469\u001b[0m     skip_parameter_validation\u001b[38;5;241m=\u001b[39m(\n\u001b[1;32m   1470\u001b[0m         prefer_skip_nested_validation \u001b[38;5;129;01mor\u001b[39;00m global_skip_validation\n\u001b[1;32m   1471\u001b[0m     )\n\u001b[1;32m   1472\u001b[0m ):\n\u001b[0;32m-> 1473\u001b[0m     \u001b[38;5;28;01mreturn\u001b[39;00m fit_method(estimator, \u001b[38;5;241m*\u001b[39margs, \u001b[38;5;241m*\u001b[39m\u001b[38;5;241m*\u001b[39mkwargs)\n",
      "File \u001b[0;32m/opt/anaconda3/lib/python3.12/site-packages/sklearn/linear_model/_coordinate_descent.py:980\u001b[0m, in \u001b[0;36mElasticNet.fit\u001b[0;34m(self, X, y, sample_weight, check_input)\u001b[0m\n\u001b[1;32m    978\u001b[0m \u001b[38;5;28;01mif\u001b[39;00m check_input:\n\u001b[1;32m    979\u001b[0m     X_copied \u001b[38;5;241m=\u001b[39m \u001b[38;5;28mself\u001b[39m\u001b[38;5;241m.\u001b[39mcopy_X \u001b[38;5;129;01mand\u001b[39;00m \u001b[38;5;28mself\u001b[39m\u001b[38;5;241m.\u001b[39mfit_intercept\n\u001b[0;32m--> 980\u001b[0m     X, y \u001b[38;5;241m=\u001b[39m \u001b[38;5;28mself\u001b[39m\u001b[38;5;241m.\u001b[39m_validate_data(\n\u001b[1;32m    981\u001b[0m         X,\n\u001b[1;32m    982\u001b[0m         y,\n\u001b[1;32m    983\u001b[0m         accept_sparse\u001b[38;5;241m=\u001b[39m\u001b[38;5;124m\"\u001b[39m\u001b[38;5;124mcsc\u001b[39m\u001b[38;5;124m\"\u001b[39m,\n\u001b[1;32m    984\u001b[0m         order\u001b[38;5;241m=\u001b[39m\u001b[38;5;124m\"\u001b[39m\u001b[38;5;124mF\u001b[39m\u001b[38;5;124m\"\u001b[39m,\n\u001b[1;32m    985\u001b[0m         dtype\u001b[38;5;241m=\u001b[39m[np\u001b[38;5;241m.\u001b[39mfloat64, np\u001b[38;5;241m.\u001b[39mfloat32],\n\u001b[1;32m    986\u001b[0m         force_writeable\u001b[38;5;241m=\u001b[39m\u001b[38;5;28;01mTrue\u001b[39;00m,\n\u001b[1;32m    987\u001b[0m         accept_large_sparse\u001b[38;5;241m=\u001b[39m\u001b[38;5;28;01mFalse\u001b[39;00m,\n\u001b[1;32m    988\u001b[0m         copy\u001b[38;5;241m=\u001b[39mX_copied,\n\u001b[1;32m    989\u001b[0m         multi_output\u001b[38;5;241m=\u001b[39m\u001b[38;5;28;01mTrue\u001b[39;00m,\n\u001b[1;32m    990\u001b[0m         y_numeric\u001b[38;5;241m=\u001b[39m\u001b[38;5;28;01mTrue\u001b[39;00m,\n\u001b[1;32m    991\u001b[0m     )\n\u001b[1;32m    992\u001b[0m     y \u001b[38;5;241m=\u001b[39m check_array(\n\u001b[1;32m    993\u001b[0m         y, order\u001b[38;5;241m=\u001b[39m\u001b[38;5;124m\"\u001b[39m\u001b[38;5;124mF\u001b[39m\u001b[38;5;124m\"\u001b[39m, copy\u001b[38;5;241m=\u001b[39m\u001b[38;5;28;01mFalse\u001b[39;00m, dtype\u001b[38;5;241m=\u001b[39mX\u001b[38;5;241m.\u001b[39mdtype\u001b[38;5;241m.\u001b[39mtype, ensure_2d\u001b[38;5;241m=\u001b[39m\u001b[38;5;28;01mFalse\u001b[39;00m\n\u001b[1;32m    994\u001b[0m     )\n\u001b[1;32m    996\u001b[0m n_samples, n_features \u001b[38;5;241m=\u001b[39m X\u001b[38;5;241m.\u001b[39mshape\n",
      "File \u001b[0;32m/opt/anaconda3/lib/python3.12/site-packages/sklearn/base.py:650\u001b[0m, in \u001b[0;36mBaseEstimator._validate_data\u001b[0;34m(self, X, y, reset, validate_separately, cast_to_ndarray, **check_params)\u001b[0m\n\u001b[1;32m    648\u001b[0m         y \u001b[38;5;241m=\u001b[39m check_array(y, input_name\u001b[38;5;241m=\u001b[39m\u001b[38;5;124m\"\u001b[39m\u001b[38;5;124my\u001b[39m\u001b[38;5;124m\"\u001b[39m, \u001b[38;5;241m*\u001b[39m\u001b[38;5;241m*\u001b[39mcheck_y_params)\n\u001b[1;32m    649\u001b[0m     \u001b[38;5;28;01melse\u001b[39;00m:\n\u001b[0;32m--> 650\u001b[0m         X, y \u001b[38;5;241m=\u001b[39m check_X_y(X, y, \u001b[38;5;241m*\u001b[39m\u001b[38;5;241m*\u001b[39mcheck_params)\n\u001b[1;32m    651\u001b[0m     out \u001b[38;5;241m=\u001b[39m X, y\n\u001b[1;32m    653\u001b[0m \u001b[38;5;28;01mif\u001b[39;00m \u001b[38;5;129;01mnot\u001b[39;00m no_val_X \u001b[38;5;129;01mand\u001b[39;00m check_params\u001b[38;5;241m.\u001b[39mget(\u001b[38;5;124m\"\u001b[39m\u001b[38;5;124mensure_2d\u001b[39m\u001b[38;5;124m\"\u001b[39m, \u001b[38;5;28;01mTrue\u001b[39;00m):\n",
      "File \u001b[0;32m/opt/anaconda3/lib/python3.12/site-packages/sklearn/utils/validation.py:1320\u001b[0m, in \u001b[0;36mcheck_X_y\u001b[0;34m(X, y, accept_sparse, accept_large_sparse, dtype, order, copy, force_writeable, force_all_finite, ensure_2d, allow_nd, multi_output, ensure_min_samples, ensure_min_features, y_numeric, estimator)\u001b[0m\n\u001b[1;32m   1301\u001b[0m X \u001b[38;5;241m=\u001b[39m check_array(\n\u001b[1;32m   1302\u001b[0m     X,\n\u001b[1;32m   1303\u001b[0m     accept_sparse\u001b[38;5;241m=\u001b[39maccept_sparse,\n\u001b[0;32m   (...)\u001b[0m\n\u001b[1;32m   1315\u001b[0m     input_name\u001b[38;5;241m=\u001b[39m\u001b[38;5;124m\"\u001b[39m\u001b[38;5;124mX\u001b[39m\u001b[38;5;124m\"\u001b[39m,\n\u001b[1;32m   1316\u001b[0m )\n\u001b[1;32m   1318\u001b[0m y \u001b[38;5;241m=\u001b[39m _check_y(y, multi_output\u001b[38;5;241m=\u001b[39mmulti_output, y_numeric\u001b[38;5;241m=\u001b[39my_numeric, estimator\u001b[38;5;241m=\u001b[39mestimator)\n\u001b[0;32m-> 1320\u001b[0m check_consistent_length(X, y)\n\u001b[1;32m   1322\u001b[0m \u001b[38;5;28;01mreturn\u001b[39;00m X, y\n",
      "File \u001b[0;32m/opt/anaconda3/lib/python3.12/site-packages/sklearn/utils/validation.py:457\u001b[0m, in \u001b[0;36mcheck_consistent_length\u001b[0;34m(*arrays)\u001b[0m\n\u001b[1;32m    455\u001b[0m uniques \u001b[38;5;241m=\u001b[39m np\u001b[38;5;241m.\u001b[39munique(lengths)\n\u001b[1;32m    456\u001b[0m \u001b[38;5;28;01mif\u001b[39;00m \u001b[38;5;28mlen\u001b[39m(uniques) \u001b[38;5;241m>\u001b[39m \u001b[38;5;241m1\u001b[39m:\n\u001b[0;32m--> 457\u001b[0m     \u001b[38;5;28;01mraise\u001b[39;00m \u001b[38;5;167;01mValueError\u001b[39;00m(\n\u001b[1;32m    458\u001b[0m         \u001b[38;5;124m\"\u001b[39m\u001b[38;5;124mFound input variables with inconsistent numbers of samples: \u001b[39m\u001b[38;5;132;01m%r\u001b[39;00m\u001b[38;5;124m\"\u001b[39m\n\u001b[1;32m    459\u001b[0m         \u001b[38;5;241m%\u001b[39m [\u001b[38;5;28mint\u001b[39m(l) \u001b[38;5;28;01mfor\u001b[39;00m l \u001b[38;5;129;01min\u001b[39;00m lengths]\n\u001b[1;32m    460\u001b[0m     )\n",
      "\u001b[0;31mValueError\u001b[0m: Found input variables with inconsistent numbers of samples: [150, 60]"
     ]
    }
   ],
   "source": [
    "from sklearn.linear_model import Lasso\n",
    "\n",
    "model = Lasso(alpha=0.1)\n",
    "model.fit(X, y)\n",
    "\n",
    "print()"
   ]
  },
  {
   "cell_type": "code",
   "execution_count": null,
   "metadata": {},
   "outputs": [],
   "source": []
  }
 ],
 "metadata": {
  "kernelspec": {
   "display_name": "base",
   "language": "python",
   "name": "python3"
  },
  "language_info": {
   "codemirror_mode": {
    "name": "ipython",
    "version": 3
   },
   "file_extension": ".py",
   "mimetype": "text/x-python",
   "name": "python",
   "nbconvert_exporter": "python",
   "pygments_lexer": "ipython3",
   "version": "3.12.2"
  }
 },
 "nbformat": 4,
 "nbformat_minor": 2
}
