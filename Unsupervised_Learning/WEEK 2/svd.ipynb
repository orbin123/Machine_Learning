{
 "cells": [
  {
   "cell_type": "code",
   "execution_count": null,
   "id": "929ef7b4",
   "metadata": {},
   "outputs": [
    {
     "name": "stdout",
     "output_type": "stream",
     "text": [
      "Original A: \n",
      " [[ 3  1  1]\n",
      " [-1  3  1]]\n",
      "U Matrix: \n",
      " [[ 0.70710678 -0.70710678]\n",
      " [ 0.70710678  0.70710678]]\n",
      "Sigma Matrix:  [[3.46410162 0.         0.        ]\n",
      " [0.         3.16227766 0.        ]]\n",
      "V^T Matrix [[ 4.08248290e-01  8.16496581e-01  4.08248290e-01]\n",
      " [ 8.94427191e-01 -4.47213595e-01  2.22044605e-16]\n",
      " [ 1.82574186e-01  3.65148372e-01 -9.12870929e-01]]\n",
      "\n",
      " Reconstructed A (UZV.T): [[-1.  3.  1.]\n",
      " [ 3.  1.  1.]]\n"
     ]
    },
    {
     "name": "stderr",
     "output_type": "stream",
     "text": [
      "/var/folders/m9/j9s4np6n4093jb6mgddz4btw0000gn/T/ipykernel_37081/3936220285.py:29: RuntimeWarning: invalid value encountered in sqrt\n",
      "  singular_vals = np.sqrt(eigvals_V)\n"
     ]
    }
   ],
   "source": [
    "# SVD from scratch\n",
    "import numpy as np\n",
    "\n",
    "# Step 1: Define a Matrix\n",
    "A = np.array([[3, 1, 1], [-1, 3, 1]])\n",
    "\n",
    "# Step 2: Compute A_T @ A and A @ A_T\n",
    "A_T_A = A.T @ A\n",
    "A_A_T = A @ A.T\n",
    "\n",
    "# Step 3: Eigen decomposition of A_T @ A and A @ A_T\n",
    "# A_T @ A = (UZV.T).T @ UZV.T => V = \n",
    "# A @ A_T = UZV.T @ (UZV.T).T\n",
    "eigvals_V, V = np.linalg.eigh(A_T_A)\n",
    "eigvals_U, U = np.linalg.eigh(A_A_T)\n",
    "\n",
    "# Step 4: Sort the eigenvalues and vectors in descending order\n",
    "sorted_indices_V = np.argsort(eigvals_V)[::-1]\n",
    "V = V[:, sorted_indices_V]\n",
    "eigvals_V = eigvals_V[sorted_indices_V]\n",
    "\n",
    "sorted_indices_U = np.argsort(eigvals_U)[::-1]\n",
    "U = U[:, sorted_indices_U]\n",
    "eigvals_U = eigvals_U[sorted_indices_U]\n",
    "\n",
    "# Step 5: Compute singular values (square roots of eigenvalues)\n",
    "# Use the non-zero eigenvalues of A^T A (or A A^T)\n",
    "singular_vals = np.sqrt(eigvals_V)\n",
    "\n",
    "# Step 6: Create  Z (sigma) matrix with singular values\n",
    "Sigma = np.zeros_like(A, dtype=float)\n",
    "np.fill_diagonal(Sigma, singular_vals)\n",
    "\n",
    "# Step 7: Reconstruct A using U @ Z @ V.T\n",
    "A_reconstructed = U @ Sigma @ V.T\n",
    "\n",
    "# Output\n",
    "print(\"Original A: \\n\", A)\n",
    "print(\"U Matrix: \\n\", U)\n",
    "print(\"Sigma Matrix: \", Sigma)\n",
    "print(\"V^T Matrix\", V.T)\n",
    "print(\"\\n Reconstructed A (UZV.T):\", A_reconstructed)\n"
   ]
  },
  {
   "cell_type": "code",
   "execution_count": 14,
   "id": "dc5aba41",
   "metadata": {},
   "outputs": [
    {
     "name": "stdout",
     "output_type": "stream",
     "text": [
      "[[ 3  1  1]\n",
      " [-1  3  1]]\n",
      "[[ 3.  1.  1.]\n",
      " [-1.  3.  1.]]\n"
     ]
    }
   ],
   "source": [
    "import numpy as np\n",
    "\n",
    "# Step 1: Define a Matrix\n",
    "A = np.array([[3, 1, 1], [-1, 3, 1]])\n",
    "\n",
    "# Step 2: Compute A^T A \n",
    "A_T_A = A.T @ A\n",
    "\n",
    "# Step 3: EigenDecomposition of A^T A for V\n",
    "eigvals, V = np.linalg.eigh(A_T_A)\n",
    "\n",
    "# Step 4: Sort Eigen values and Eigen Vectors\n",
    "sorted_indices = np.argsort(eigvals)[::-1]\n",
    "eigvals = eigvals[sorted_indices]\n",
    "V = V[:, sorted_indices]\n",
    "\n",
    "# Step 5: Compute Singular Values\n",
    "singular_vals = np.sqrt(np.clip(eigvals, a_min=0, a_max=None))\n",
    "\n",
    "# Step 6: Compute U using A V / Z\n",
    "U = (A @ V[:, :2]) / singular_vals[:2]# Broadcasts for each column\n",
    "\n",
    "# Step 7: Construct Z (same shape as A)\n",
    "Sigma = np.zeros((2, 3))\n",
    "np.fill_diagonal(Sigma, singular_vals[:2])\n",
    "\n",
    "# Step 8: Reconstruct A\n",
    "A_reconstructed = U @ Sigma @ V.T \n",
    "\n",
    "print(A)\n",
    "print(A_reconstructed)\n"
   ]
  },
  {
   "cell_type": "code",
   "execution_count": 13,
   "id": "6d4401d6",
   "metadata": {},
   "outputs": [
    {
     "name": "stdout",
     "output_type": "stream",
     "text": [
      "Original A: \n",
      " [[ 3  1  1]\n",
      " [-1  3  1]]\n",
      "U Matrix: \n",
      " [[ 0.70710678  0.70710678]\n",
      " [ 0.70710678 -0.70710678]]\n",
      "Sigma Matrix: \n",
      " [[3.46410162 0.         0.        ]\n",
      " [0.         3.16227766 0.        ]]\n",
      "V^T Matrix: \n",
      " [[ 4.08248290e-01  8.16496581e-01  4.08248290e-01]\n",
      " [ 8.94427191e-01 -4.47213595e-01  2.22044605e-16]\n",
      " [ 1.82574186e-01  3.65148372e-01 -9.12870929e-01]]\n",
      "\n",
      "Reconstructed A: \n",
      " [[ 3.  1.  1.]\n",
      " [-1.  3.  1.]]\n"
     ]
    }
   ],
   "source": [
    "import numpy as np\n",
    "\n",
    "# Step 1: Define a Matrix\n",
    "A = np.array([[3, 1, 1], [-1, 3, 1]])\n",
    "\n",
    "# Step 2: Compute A^T A\n",
    "A_T_A = A.T @ A\n",
    "\n",
    "# Step 3: Eigendecomposition of A^T A for V\n",
    "eigvals, V = np.linalg.eigh(A_T_A)\n",
    "\n",
    "# Step 4: Sort eigenvalues and eigenvectors\n",
    "sorted_indices = np.argsort(eigvals)[::-1]\n",
    "eigvals = eigvals[sorted_indices]\n",
    "V = V[:, sorted_indices]\n",
    "\n",
    "# Step 5: Compute singular values (avoid negatives due to rounding)\n",
    "singular_vals = np.sqrt(np.clip(eigvals, a_min=0, a_max=None))\n",
    "\n",
    "# Step 6: Compute U using A V / σ\n",
    "U = (A @ V[:, :2]) / singular_vals[:2]\n",
    "\n",
    "# Step 7: Construct Σ (same shape as A)\n",
    "Sigma = np.zeros((2, 3))\n",
    "np.fill_diagonal(Sigma, singular_vals[:2])\n",
    "\n",
    "# Step 8: Reconstruct A\n",
    "A_reconstructed = U @ Sigma @ V.T\n",
    "\n",
    "# Output\n",
    "print(\"Original A: \\n\", A)\n",
    "print(\"U Matrix: \\n\", U)\n",
    "print(\"Sigma Matrix: \\n\", Sigma)\n",
    "print(\"V^T Matrix: \\n\", V.T)\n",
    "print(\"\\nReconstructed A: \\n\", A_reconstructed)"
   ]
  },
  {
   "cell_type": "code",
   "execution_count": 15,
   "id": "d6e5871c",
   "metadata": {},
   "outputs": [
    {
     "name": "stdout",
     "output_type": "stream",
     "text": [
      "Silhouette score:  0.5964321528731893\n"
     ]
    },
    {
     "data": {
      "text/plain": [
       "<matplotlib.collections.PathCollection at 0x1720fc620>"
      ]
     },
     "execution_count": 15,
     "metadata": {},
     "output_type": "execute_result"
    },
    {
     "data": {
      "image/png": "[encoded data removed]",
      "text/plain": [
       "<Figure size 640x480 with 1 Axes>"
      ]
     },
     "metadata": {},
     "output_type": "display_data"
    }
   ],
   "source": [
    "from sklearn.datasets import load_iris \n",
    "from sklearn.decomposition import TruncatedSVD\n",
    "from sklearn.cluster import KMeans\n",
    "from sklearn.metrics import silhouette_score\n",
    "import matplotlib.pyplot as plt\n",
    "\n",
    "X, y = load_iris(return_X_y=True)\n",
    "\n",
    "svd = TruncatedSVD(n_components=2, random_state=42)\n",
    "X_svd = svd.fit_transform(X)\n",
    "\n",
    "kmeans = KMeans(n_clusters=3, random_state=42)\n",
    "labels = kmeans.fit_predict(X_svd)\n",
    "\n",
    "score = silhouette_score(X_svd, labels)\n",
    "print(\"Silhouette score: \", score)\n",
    "\n",
    "plt.scatter(X_svd[:,0], X_svd[:,1], c=labels, cmap='plasma', s=50)"
   ]
  },
  {
   "cell_type": "code",
   "execution_count": 21,
   "id": "791f3474",
   "metadata": {},
   "outputs": [
    {
     "name": "stdout",
     "output_type": "stream",
     "text": [
      "A:  [[ 3  1  1]\n",
      " [-1  3  1]]\n",
      "A_reconstructed [[ 3.  1.  1.]\n",
      " [-1.  3.  1.]]\n"
     ]
    }
   ],
   "source": [
    "import numpy as np\n",
    "\n",
    "A = np.array([[3, 1,1 ], [-1, 3, 1]])\n",
    "\n",
    "A_T_A = A.T @ A\n",
    "\n",
    "eigvals, V = np.linalg.eigh(A_T_A)\n",
    "\n",
    "sorted_indices = np.argsort(eigvals)[::-1]\n",
    "eigvals = eigvals[sorted_indices]\n",
    "V = V[:, sorted_indices]\n",
    "\n",
    "singular_vals = np.sqrt(np.clip(eigvals, 0, None))\n",
    "\n",
    "U = (A @ V[:,:2]) / singular_vals[:2]\n",
    "\n",
    "Sigma = np.zeros((2, 3))\n",
    "np.fill_diagonal(Sigma, singular_vals[:2])\n",
    "\n",
    "A_reconstructed = U @ Sigma @ V.T\n",
    "\n",
    "print(\"A: \", A)\n",
    "print(\"A_reconstructed\", A_reconstructed)"
   ]
  }
 ],
 "metadata": {
  "kernelspec": {
   "display_name": "base",
   "language": "python",
   "name": "python3"
  },
  "language_info": {
   "codemirror_mode": {
    "name": "ipython",
    "version": 3
   },
   "file_extension": ".py",
   "mimetype": "text/x-python",
   "name": "python",
   "nbconvert_exporter": "python",
   "pygments_lexer": "ipython3",
   "version": "3.12.2"
  }
 },
 "nbformat": 4,
 "nbformat_minor": 5
}
