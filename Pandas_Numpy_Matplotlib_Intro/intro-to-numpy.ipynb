{
 "cells": [
  {
   "cell_type": "markdown",
   "metadata": {},
   "source": [
    "# Introduction to Numpy\n",
    "\n",
    "NumPy, which stands for Numerical Python, is a fundamental library for scientific computing in Python. It provides powerful tools for working with numerical data, including"
   ]
  },
  {
   "cell_type": "code",
   "execution_count": null,
   "metadata": {},
   "outputs": [
    {
     "name": "stdout",
     "output_type": "stream",
     "text": [
      "[0 1 2 3 4 5 6 7 8 9]\n",
      "(10,)\n"
     ]
    }
   ],
   "source": [
    "import numpy as np\n",
    "\n",
    "np1 = np.array([0,1,2,3,4,5,6,7,8,9])\n",
    "print(np1)\n",
    "print(np1.shape)"
   ]
  },
  {
   "cell_type": "code",
   "execution_count": 3,
   "metadata": {},
   "outputs": [
    {
     "data": {
      "text/plain": [
       "array([0, 1, 2, 3, 4, 5, 6, 7, 8, 9])"
      ]
     },
     "execution_count": 3,
     "metadata": {},
     "output_type": "execute_result"
    }
   ],
   "source": [
    "# Range\n",
    "np2 = np.arange(10)\n",
    "np2"
   ]
  },
  {
   "cell_type": "code",
   "execution_count": 4,
   "metadata": {},
   "outputs": [
    {
     "data": {
      "text/plain": [
       "array([0, 2, 4, 6, 8])"
      ]
     },
     "execution_count": 4,
     "metadata": {},
     "output_type": "execute_result"
    }
   ],
   "source": [
    "# Step \n",
    "np3 = np.arange(0, 10, 2)\n",
    "np3"
   ]
  },
  {
   "cell_type": "code",
   "execution_count": 5,
   "metadata": {},
   "outputs": [
    {
     "data": {
      "text/plain": [
       "array([0., 0., 0., 0., 0., 0., 0., 0., 0., 0.])"
      ]
     },
     "execution_count": 5,
     "metadata": {},
     "output_type": "execute_result"
    }
   ],
   "source": [
    "# Zeroes\n",
    "np4 = np.zeros(10)\n",
    "np4"
   ]
  },
  {
   "cell_type": "code",
   "execution_count": 8,
   "metadata": {},
   "outputs": [
    {
     "data": {
      "text/plain": [
       "array([1., 1., 1., 1., 1., 1., 1., 1., 1., 1.])"
      ]
     },
     "execution_count": 8,
     "metadata": {},
     "output_type": "execute_result"
    }
   ],
   "source": [
    "# Ones\n",
    "np5  = np.ones(10)\n",
    "np5\n"
   ]
  },
  {
   "cell_type": "code",
   "execution_count": 9,
   "metadata": {},
   "outputs": [
    {
     "data": {
      "text/plain": [
       "array([6, 6, 6, 6, 6, 6, 6, 6, 6, 6])"
      ]
     },
     "execution_count": 9,
     "metadata": {},
     "output_type": "execute_result"
    }
   ],
   "source": [
    "np6  = np.full(10, 6)\n",
    "np6"
   ]
  },
  {
   "cell_type": "code",
   "execution_count": null,
   "metadata": {},
   "outputs": [
    {
     "data": {
      "text/plain": [
       "array([[6, 6, 6, 6, 6, 6],\n",
       "       [6, 6, 6, 6, 6, 6]])"
      ]
     },
     "execution_count": 10,
     "metadata": {},
     "output_type": "execute_result"
    }
   ],
   "source": [
    "# multi-dimensional\n",
    "np6  = np.full((2,6), 6)\n",
    "np6"
   ]
  },
  {
   "cell_type": "code",
   "execution_count": 12,
   "metadata": {},
   "outputs": [
    {
     "data": {
      "text/plain": [
       "array([1, 2, 3, 4, 5, 6])"
      ]
     },
     "execution_count": 12,
     "metadata": {},
     "output_type": "execute_result"
    }
   ],
   "source": [
    "array = [1,2,3,4,5,6]\n",
    "np7 = np.array(array)\n",
    "np7"
   ]
  },
  {
   "cell_type": "markdown",
   "metadata": {},
   "source": [
    "### Slicing Numpy array"
   ]
  },
  {
   "cell_type": "code",
   "execution_count": null,
   "metadata": {},
   "outputs": [
    {
     "name": "stdout",
     "output_type": "stream",
     "text": [
      "[2 3 4 5]\n",
      "[4 5 6 7 8 9]\n",
      "[1 2 3]\n",
      "[1 3 5 7 9]\n",
      "[9 8 7 6 5 4 3 2 1]\n"
     ]
    }
   ],
   "source": [
    "my_np1= np.array([1,2,3,4,-5,6,7,8,9])\n",
    "\n",
    "# Slicing\n",
    "print(my_np1[1:5])\n",
    "print(my_np1[3:])\n",
    "print(my_np1[:3])\n",
    "print(my_np1[::2])\n",
    "print(my_np1[::-1])\n"
   ]
  },
  {
   "cell_type": "code",
   "execution_count": 24,
   "metadata": {},
   "outputs": [
    {
     "data": {
      "text/plain": [
       "array([[2, 8, 1, 1],\n",
       "       [1, 2, 5, 6]])"
      ]
     },
     "execution_count": 24,
     "metadata": {},
     "output_type": "execute_result"
    }
   ],
   "source": [
    "from numpy.random import randn\n",
    "my_np2 = np.random.randint(9,size=(2,4))\n",
    "my_np2"
   ]
  },
  {
   "cell_type": "code",
   "execution_count": 28,
   "metadata": {},
   "outputs": [
    {
     "name": "stdout",
     "output_type": "stream",
     "text": [
      "[[8 1]]\n"
     ]
    }
   ],
   "source": [
    "# Slice 2d-array \n",
    "print(my_np2[:1, 1:3])"
   ]
  },
  {
   "cell_type": "code",
   "execution_count": 32,
   "metadata": {},
   "outputs": [
    {
     "name": "stdout",
     "output_type": "stream",
     "text": [
      "[1 2 3 4 5 6 7 8 9]\n",
      "Square Root:  [1.         1.41421356 1.73205081 2.         2.23606798 2.44948974\n",
      " 2.64575131 2.82842712 3.        ]\n",
      "Absolute:  [1 2 3 4 5 6 7 8 9]\n",
      "Exponents:  [2.71828183e+00 7.38905610e+00 2.00855369e+01 5.45981500e+01\n",
      " 1.48413159e+02 4.03428793e+02 1.09663316e+03 2.98095799e+03\n",
      " 8.10308393e+03]\n",
      "Min Value:  1\n",
      "Max Value:  9\n"
     ]
    }
   ],
   "source": [
    "print(my_np1)\n",
    "print(\"Square Root: \", np.sqrt(my_np1))\n",
    "print(\"Absolute: \", np.absolute(my_np1))\n",
    "print(\"Exponents: \", np.exp(my_np1))\n",
    "print(\"Min Value: \", np.min(my_np1))\n",
    "print(\"Max Value: \", np.max(my_np1))\n"
   ]
  },
  {
   "cell_type": "markdown",
   "metadata": {},
   "source": [
    "### Shape and Reshape nparray"
   ]
  },
  {
   "cell_type": "code",
   "execution_count": 36,
   "metadata": {},
   "outputs": [
    {
     "name": "stdout",
     "output_type": "stream",
     "text": [
      "[ 5 10 10  1 10  9  4  3  7 11  3  3]\n",
      "[[[ 5 10]\n",
      "  [10  1]\n",
      "  [10  9]]\n",
      "\n",
      " [[ 4  3]\n",
      "  [ 7 11]\n",
      "  [ 3  3]]]\n",
      "(2, 3, 2)\n"
     ]
    }
   ],
   "source": [
    "my_np3 = np.random.randint(12,size=(12))\n",
    "\n",
    "print(my_np3)\n",
    "my_np4= my_np3.reshape(2,3,2)\n",
    "print(my_np4)\n",
    "print(my_np4.shape)\n"
   ]
  },
  {
   "cell_type": "code",
   "execution_count": 38,
   "metadata": {},
   "outputs": [
    {
     "data": {
      "text/plain": [
       "array([ 5, 10, 10,  1, 10,  9,  4,  3,  7, 11,  3,  3])"
      ]
     },
     "execution_count": 38,
     "metadata": {},
     "output_type": "execute_result"
    }
   ],
   "source": [
    "my_np5 = my_np4.reshape(-1)\n",
    "my_np5"
   ]
  },
  {
   "cell_type": "markdown",
   "metadata": {},
   "source": [
    "### Indexing through ndarray"
   ]
  },
  {
   "cell_type": "code",
   "execution_count": 39,
   "metadata": {},
   "outputs": [
    {
     "data": {
      "text/plain": [
       "array([[[10,  8,  0],\n",
       "        [ 5,  8,  5],\n",
       "        [11, 11, 11]],\n",
       "\n",
       "       [[ 9,  3,  9],\n",
       "        [ 2,  1,  2],\n",
       "        [10,  4,  6]],\n",
       "\n",
       "       [[ 9,  4,  9],\n",
       "        [ 5,  5,  9],\n",
       "        [ 4,  0, 11]]])"
      ]
     },
     "execution_count": 39,
     "metadata": {},
     "output_type": "execute_result"
    }
   ],
   "source": [
    "my_np6 = np.random.randint(12,size=(3,3,3))\n",
    "my_np6"
   ]
  },
  {
   "cell_type": "code",
   "execution_count": null,
   "metadata": {},
   "outputs": [
    {
     "name": "stdout",
     "output_type": "stream",
     "text": [
      "10 8 0 5 8 5 11 11 11 9 3 9 2 1 2 10 4 6 9 4 9 5 5 9 4 0 11 "
     ]
    }
   ],
   "source": [
    "\n",
    "for x in np.nditer(my_np6):\n",
    "    print(x, end=\" \")\n",
    "    "
   ]
  },
  {
   "cell_type": "markdown",
   "metadata": {},
   "source": [
    "### Sorting the ndarray"
   ]
  },
  {
   "cell_type": "code",
   "execution_count": 43,
   "metadata": {},
   "outputs": [
    {
     "data": {
      "text/plain": [
       "array([10,  2, 10, 11,  3,  2])"
      ]
     },
     "execution_count": 43,
     "metadata": {},
     "output_type": "execute_result"
    }
   ],
   "source": [
    "my_np7 = np.random.randint(12, size=(6))\n",
    "my_np7"
   ]
  },
  {
   "cell_type": "code",
   "execution_count": 44,
   "metadata": {},
   "outputs": [
    {
     "name": "stdout",
     "output_type": "stream",
     "text": [
      "[ 2  2  3 10 10 11]\n"
     ]
    }
   ],
   "source": [
    "print(np.sort(my_np7))"
   ]
  },
  {
   "cell_type": "code",
   "execution_count": 45,
   "metadata": {},
   "outputs": [
    {
     "name": "stdout",
     "output_type": "stream",
     "text": [
      "['2-pac' 'Jay-z' 'Naaz' 'Zindney']\n"
     ]
    }
   ],
   "source": [
    "my_np8 = np.array([\"Jay-z\",\"2-pac\", \"Naaz\", \"Zindney\"])\n",
    "print(np.sort(my_np8))"
   ]
  },
  {
   "cell_type": "code",
   "execution_count": null,
   "metadata": {},
   "outputs": [],
   "source": []
  }
 ],
 "metadata": {
  "kernelspec": {
   "display_name": "base",
   "language": "python",
   "name": "python3"
  },
  "language_info": {
   "codemirror_mode": {
    "name": "ipython",
    "version": 3
   },
   "file_extension": ".py",
   "mimetype": "text/x-python",
   "name": "python",
   "nbconvert_exporter": "python",
   "pygments_lexer": "ipython3",
   "version": "3.12.7"
  }
 },
 "nbformat": 4,
 "nbformat_minor": 2
}
